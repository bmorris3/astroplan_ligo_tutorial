{
 "cells": [
  {
   "cell_type": "code",
   "execution_count": 128,
   "metadata": {},
   "outputs": [],
   "source": [
    "%matplotlib inline \n",
    "import matplotlib.pyplot as plt\n",
    "from astropy.time import Time\n",
    "import astropy.units as u\n",
    "import numpy as np"
   ]
  },
  {
   "cell_type": "markdown",
   "metadata": {},
   "source": [
    "Let's say we have these three observatories, CFHT (Hawaii), Siding Spring Observatory (Australia), and Kitt Peak (Arizona): "
   ]
  },
  {
   "cell_type": "code",
   "execution_count": 148,
   "metadata": {},
   "outputs": [],
   "source": [
    "from astroplan import Observer\n",
    "observatories = [Observer.at_site(\"CFHT\"), \n",
    "                 Observer.at_site(\"SSO\"),\n",
    "                 Observer.at_site(\"KPNO\")]"
   ]
  },
  {
   "cell_type": "markdown",
   "metadata": {},
   "source": [
    "Let's say our gravitational wave candidate has a broad posterior distribution on the sky, which we can approximate with three coordinates (widely separated):"
   ]
  },
  {
   "cell_type": "code",
   "execution_count": 149,
   "metadata": {},
   "outputs": [],
   "source": [
    "from astroplan import FixedTarget\n",
    "from astropy.coordinates import SkyCoord\n",
    "\n",
    "coord_0 = SkyCoord(ra='20h40m10s', dec='-30d10m50s')\n",
    "coord_1 = SkyCoord(ra='21h40m10s', dec='00d10m50s')\n",
    "coord_2 = SkyCoord(ra='22h50m10s', dec='30d10m50s')\n",
    "\n",
    "target_list = [FixedTarget(coord=coord_0, name='GW-180430_0'),\n",
    "               FixedTarget(coord=coord_1, name='GW-180430_1'),\n",
    "               FixedTarget(coord=coord_2, name='GW-180430_2')]"
   ]
  },
  {
   "cell_type": "markdown",
   "metadata": {},
   "source": [
    "Make a list of constraints that we demand must be met for a the target to be \"observable\""
   ]
  },
  {
   "cell_type": "code",
   "execution_count": 150,
   "metadata": {},
   "outputs": [],
   "source": [
    "from astroplan import (AirmassConstraint, AtNightConstraint,\n",
    "                       MoonSeparationConstraint)\n",
    "\n",
    "constraints = [AirmassConstraint(max=2.5), \n",
    "               AtNightConstraint.twilight_civil(),\n",
    "               MoonSeparationConstraint(min=5*u.deg)]"
   ]
  },
  {
   "cell_type": "markdown",
   "metadata": {},
   "source": [
    "Make a grid of times, every hour, for 72 hours, starting at the time below; and compute the constraints for each target at each time for each observatory: "
   ]
  },
  {
   "cell_type": "code",
   "execution_count": 151,
   "metadata": {},
   "outputs": [],
   "source": [
    "times = Time('2018-04-30 00:00') + np.arange(0, 72, 1) * u.hour\n",
    "\n",
    "constraint_matrix = np.ones((len(observatories), len(target_list), len(times))).astype(bool)\n",
    "\n",
    "for i, observatory in enumerate(observatories):\n",
    "    for constraint in constraints:\n",
    "        constraint_matrix[i, :, :] &= constraint(observatory, target_list, times, grid_times_targets=True)"
   ]
  },
  {
   "cell_type": "markdown",
   "metadata": {},
   "source": [
    "Plot the results: "
   ]
  },
  {
   "cell_type": "code",
   "execution_count": 152,
   "metadata": {},
   "outputs": [
    {
     "data": {
      "image/png": "[encoded data removed]",
      "text/plain": [
       "<matplotlib.figure.Figure at 0x11d1d01d0>"
      ]
     },
     "metadata": {},
     "output_type": "display_data"
    }
   ],
   "source": [
    "fig, ax = plt.subplots(len(observatories), sharex=True)\n",
    "\n",
    "for i, observatory in enumerate(observatories):\n",
    "    ax[i].imshow(constraint_matrix[i, ...], cmap=plt.cm.Greys_r, origin='lower', \n",
    "                 extent=[0, len(times), 0, len(observatories)])\n",
    "    ax[i].set_aspect(3)\n",
    "    ax[i].set_title(observatory.name)\n",
    "\n",
    "for axis in fig.axes:\n",
    "    axis.set_yticks(np.arange(len(target_list))+0.5)\n",
    "    axis.set_yticklabels([target.name for target in target_list])\n",
    "    axis.grid(ls=':')\n",
    "ax[-1].set_xlabel('Time from UTC {0} [hours]'.format(times[0].utc.iso))\n",
    "fig.tight_layout()\n",
    "plt.show()"
   ]
  },
  {
   "cell_type": "markdown",
   "metadata": {},
   "source": [
    "The above plot is black when the constraints are not met, and white when the constraints are met, for each observatory, at each time. "
   ]
  },
  {
   "cell_type": "code",
   "execution_count": null,
   "metadata": {},
   "outputs": [],
   "source": []
  }
 ],
 "metadata": {
  "kernelspec": {
   "display_name": "Python 3",
   "language": "python",
   "name": "python3"
  },
  "language_info": {
   "codemirror_mode": {
    "name": "ipython",
    "version": 3
   },
   "file_extension": ".py",
   "mimetype": "text/x-python",
   "name": "python",
   "nbconvert_exporter": "python",
   "pygments_lexer": "ipython3",
   "version": "3.5.4"
  }
 },
 "nbformat": 4,
 "nbformat_minor": 2
}
